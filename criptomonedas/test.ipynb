{
 "cells": [
  {
   "cell_type": "code",
   "execution_count": 19,
   "metadata": {},
   "outputs": [
    {
     "name": "stdout",
     "output_type": "stream",
     "text": [
      "Top 5 criptomonedas más populares en 2015:\n",
      "coin_name\n",
      "bitcoin     3.918898e+09\n",
      "ripple      2.835901e+08\n",
      "ethereum    6.780105e+07\n",
      "Name: market_cap, dtype: float64\n",
      "\n",
      "Datos de las 5 criptomonedas más populares:\n",
      "        date    price  total_volume    market_cap coin_name\n",
      "0 2015-01-01  313.992  4.699936e+07  4.293958e+09   bitcoin\n",
      "1 2015-01-02  314.446  3.885591e+07  4.301448e+09   bitcoin\n",
      "2 2015-01-03  286.572  1.187789e+08  3.921358e+09   bitcoin\n",
      "3 2015-01-04  260.936  2.055001e+08  3.571640e+09   bitcoin\n",
      "4 2015-01-05  273.220  1.550381e+08  3.740880e+09   bitcoin\n"
     ]
    }
   ],
   "source": [
    "import pandas as pd\n",
    "import matplotlib.pyplot as plt\n",
    "\n",
    "# Cargar datos desde el archivo CSV\n",
    "ruta_al_archivo = 'files/criptomonedas_2015.csv'\n",
    "df = pd.read_csv(ruta_al_archivo)\n",
    "\n",
    "# Convertir la columna de fecha a tipo datetime\n",
    "df['date'] = pd.to_datetime(df['date'])\n",
    "\n",
    "# Filtrar datos del año 2015\n",
    "df_2015 = df[df['date'].dt.year == 2015]\n",
    "\n",
    "# Agrupar por criptomoneda y calcular su capitalización promedio para el año 2015\n",
    "top_cryptos_2015 = (\n",
    "    df_2015.groupby('coin_name')['market_cap']\n",
    "    .mean()\n",
    "    .sort_values(ascending=False)\n",
    "    .head(500)\n",
    ")\n",
    "\n",
    "# Mostrar las 5 criptomonedas más populares basadas en la capitalización de mercado promedio\n",
    "print(\"Top 5 criptomonedas más populares en 2015:\")\n",
    "print(top_cryptos_2015)\n",
    "\n",
    "# Filtrar el DataFrame original para incluir solo las 5 criptomonedas seleccionadas\n",
    "top_crypto_names = top_cryptos_2015.index.tolist()\n",
    "df_top_5 = df_2015[df_2015['coin_name'].isin(top_crypto_names)]\n",
    "\n",
    "# Exploración de datos filtrados\n",
    "print(\"\\nDatos de las 5 criptomonedas más populares:\")\n",
    "print(df_top_5.head())\n",
    "\n",
    "\n"
   ]
  }
 ],
 "metadata": {
  "kernelspec": {
   "display_name": "criptomonedas",
   "language": "python",
   "name": "python3"
  },
  "language_info": {
   "codemirror_mode": {
    "name": "ipython",
    "version": 3
   },
   "file_extension": ".py",
   "mimetype": "text/x-python",
   "name": "python",
   "nbconvert_exporter": "python",
   "pygments_lexer": "ipython3",
   "version": "3.12.6"
  }
 },
 "nbformat": 4,
 "nbformat_minor": 2
}
